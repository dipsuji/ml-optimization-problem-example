{
 "cells": [
  {
   "cell_type": "code",
   "execution_count": 7,
   "id": "7f483e0b",
   "metadata": {},
   "outputs": [],
   "source": [
    "import autograd.numpy as anp\n",
    "from pymoo.core.problem import Problem\n",
    "from pymoo.algorithms.moo.nsga2 import NSGA2\n",
    "from pymoo.factory import get_sampling, get_crossover, get_mutation\n",
    "from pymoo.optimize import minimize\n",
    "from pymoo.visualization.scatter import Scatter"
   ]
  },
  {
   "cell_type": "code",
   "execution_count": 148,
   "id": "56794c13",
   "metadata": {
    "scrolled": false
   },
   "outputs": [
    {
     "name": "stdout",
     "output_type": "stream",
     "text": [
      "[[ True False]\n",
      " [False  True]\n",
      " [False False]\n",
      " [ True  True]]\n",
      "out[].................................\n",
      "[[ -3.2        -12.125     ]\n",
      " [  0.35555556   8.08333333]\n",
      " [ -5.2          7.875     ]\n",
      " [  2.35555556 -11.91666667]]\n",
      "# name: MyProblem\n",
      "# n_var: 2\n",
      "# n_obj: 2\n",
      "# n_constr: 0\n",
      "\n",
      "Best solution found: \n",
      "X = [[False False]]\n",
      "F = [[ 0. -1.]]\n"
     ]
    },
    {
     "data": {
      "text/plain": [
       "<pymoo.visualization.scatter.Scatter at 0x2193031abb0>"
      ]
     },
     "execution_count": 148,
     "metadata": {},
     "output_type": "execute_result"
    },
    {
     "data": {
      "image/png": "[encoded data removed]",
      "text/plain": [
       "<Figure size 576x432 with 1 Axes>"
      ]
     },
     "metadata": {
      "needs_background": "light"
     },
     "output_type": "display_data"
    }
   ],
   "source": [
    "class MyProblem(Problem):\n",
    "\n",
    "    def __init__(self):\n",
    "        super().__init__(n_var=2,\n",
    "                         n_obj=2,\n",
    "                         xl=anp.array([-2, -2]),\n",
    "                         xu=anp.array([2, 2]))\n",
    "\n",
    "    def _evaluate(self, X, out, *args, **kwargs):\n",
    "        print(X)\n",
    "        f1=X[:, 0]**2 + X[:, 1]**2\n",
    "        f2=(X[:, 0]-1) + X[:, 1]**2\n",
    "        g1=2*(X[:, 0]-0.1) + (X[:, 1]-0.9) / 0.18\n",
    "        g2=-20*(X[:, 0]-0.4) + (X[:, 1]-0.6) /4.8\n",
    "        out[\"F\"] = anp.column_stack([f1, f2])\n",
    "        out[\"G\"] = anp.column_stack([g1, g2,])\n",
    "        print(\"out[\"\"].................................\")\n",
    "        print(out[\"G\"])\n",
    "\n",
    "algorithm = NSGA2(pop_size=100,\n",
    "                  sampling=get_sampling(\"bin_random\"),\n",
    "                  crossover=get_crossover(\"bin_two_point\"),\n",
    "                  mutation=get_mutation(\"bin_bitflip\"),\n",
    "                  eliminate_duplicates=True)\n",
    "\n",
    "res = minimize(MyProblem(),\n",
    "               algorithm,\n",
    "               ('n_gen', 500),\n",
    "               seed=12,\n",
    "               verbose=False)\n",
    "\n",
    "print(MyProblem())\n",
    "print(\"Best solution found: \\nX = %s\\nF = %s\" % (res.X, res.F))\n",
    "plot = Scatter()\n",
    "plot.add(res.F, facecolor=\"none\", edgecolor=\"red\")\n",
    "plot.show()"
   ]
  },
  {
   "cell_type": "code",
   "execution_count": 258,
   "id": "4c746690",
   "metadata": {},
   "outputs": [],
   "source": [
    "class MyProblem1(Problem):\n",
    "\n",
    "    def __init__(self):\n",
    "        super().__init__(n_var=100,\n",
    "                         n_obj=3,\n",
    "                         n_constr=0,\n",
    "                         xl=anp.array([-1]*100),\n",
    "                         xu=anp.array([2]*100))\n",
    "  \n",
    "    def _evaluate(self, x, out, *args, **kwargs):\n",
    "        f1 = 1 - np.exp(-((x - 1 / np.sqrt(self.n_var)) ** 2).sum(axis=1))\n",
    "        f2 = 1 - np.exp(-((x + 1 / np.sqrt(self.n_var)) ** 2).sum(axis=1))\n",
    "        out[\"F\"] = np.column_stack([f1, f2])\n",
    "        out[\"G\"] = np.column_stack([f1, f2])\n",
    "\n",
    "            "
   ]
  },
  {
   "cell_type": "code",
   "execution_count": 256,
   "id": "798b7a95",
   "metadata": {},
   "outputs": [],
   "source": [
    "class MyProblem2(Problem):\n",
    "    def __init__(self):\n",
    "        super().__init__(n_var=3,\n",
    "                         n_obj=2,\n",
    "                         n_constr=0,\n",
    "                         xl=np.array([-2.0, -2.0, -2.0]),\n",
    "                         xu=np.array([2.0, 2.0, 2.0]))\n",
    "\n",
    "    def _evaluate(self, x, out, *args, **kwargs):\n",
    "        f1 = 1 - np.exp(-((x - 1 / np.sqrt(self.n_var)) ** 2).sum(axis=1))\n",
    "        f2 = 1 - np.exp(-((x + 1 / np.sqrt(self.n_var)) ** 2).sum(axis=1))\n",
    "        print(\"out\")\n",
    "        print(out)\n",
    "        out[\"F\"] = np.column_stack([f1, f2])\n"
   ]
  },
  {
   "cell_type": "code",
   "execution_count": 259,
   "id": "f1e2c975",
   "metadata": {},
   "outputs": [
    {
     "name": "stdout",
     "output_type": "stream",
     "text": [
      "MyProblem11111111111111111111111111111111()\n",
      "# name: MyProblem1\n",
      "# n_var: 100\n",
      "# n_obj: 3\n",
      "# n_constr: 0\n",
      "\n",
      "MyProblem2222222222222222()\n",
      "# name: MyProblem1\n",
      "# n_var: 100\n",
      "# n_obj: 3\n",
      "# n_constr: 0\n",
      "\n"
     ]
    }
   ],
   "source": [
    "from pymoo.algorithms.soo.nonconvex.ga import GA\n",
    "from pymoo.factory import get_problem\n",
    "from pymoo.optimize import minimize\n",
    "\n",
    "print(\"MyProblem11111111111111111111111111111111()\")\n",
    "print(MyProblem1())\n",
    "print(\"MyProblem2222222222222222()\")\n",
    "print(MyProblem1())\n",
    "\n",
    "algorithm = NSGA2(\n",
    "    pop_size=1,\n",
    "    eliminate_duplicates=True)\n",
    "\n",
    "res = minimize(MyProblem1(),\n",
    "               algorithm,\n",
    "               seed=200,\n",
    "               verbose=False)"
   ]
  },
  {
   "cell_type": "code",
   "execution_count": 233,
   "id": "69cd2e04",
   "metadata": {},
   "outputs": [
    {
     "name": "stdout",
     "output_type": "stream",
     "text": [
      "Best solution found: \n",
      "X = [[ 1.84289677e+00 -1.38008450e-01  7.83260433e-01  2.84926055e-01\n",
      "   1.29242206e+00 -9.91418225e-01  7.22710439e-02  1.76409240e+00\n",
      "   3.68242956e-01  1.94540813e+00  1.97664449e+00  1.95808253e+00\n",
      "   1.76980012e+00 -9.79218863e-02  1.53831047e+00 -6.36334095e-01\n",
      "   1.35672886e+00 -2.48484836e-01 -7.11910870e-01  1.83047311e+00\n",
      "   1.39030600e+00  1.01759444e+00  1.51055452e+00  7.35127070e-01\n",
      "   3.50253513e-01  1.04047094e+00  2.58276864e-01  9.21180393e-01\n",
      "   8.25968876e-01 -6.83697678e-01  1.73881234e+00  1.27610124e+00\n",
      "   1.03892550e+00 -1.19556886e-02 -9.20635351e-01  1.41098116e+00\n",
      "   1.91848757e+00 -1.51185656e-01  9.47224019e-01 -4.65981155e-02\n",
      "  -4.36932574e-01  2.57143620e-01  9.97996703e-01  6.61862821e-01\n",
      "   1.56347756e+00 -4.86966074e-01  1.93447555e+00 -9.62088290e-02\n",
      "  -3.02652718e-01  1.45161499e+00  1.83443184e+00  1.96189560e+00\n",
      "  -9.51809169e-01 -6.79847722e-01  9.36676601e-01  5.20831893e-01\n",
      "  -3.69013749e-01 -1.90438522e-04 -9.80976745e-01  3.76362478e-01\n",
      "   5.96349315e-01  8.34117209e-01 -1.02623551e-01  1.66950696e+00\n",
      "   1.15888717e+00  1.85873492e+00  1.91321133e-01  1.96594341e+00\n",
      "   3.57465465e-01  1.18421872e+00  3.23791802e-02  1.37292573e+00\n",
      "  -5.85373194e-01 -9.84351489e-01  6.77558179e-01  5.95664248e-01\n",
      "  -9.05085302e-01  1.73929385e+00  1.62332033e+00  5.42908869e-01\n",
      "   6.29975404e-01  6.59756533e-01  1.67187675e+00  1.75190755e+00\n",
      "  -4.49477065e-01  1.72025298e+00  1.06702120e+00  1.16922940e+00\n",
      "  -2.30089195e-01  5.85918197e-01 -5.64535704e-01  1.66311166e-01\n",
      "  -9.83516019e-01 -5.23468316e-01  1.55845911e+00  5.83453714e-01\n",
      "   1.03591381e+00 -7.94444211e-01  1.60638692e+00  1.66742070e-01]]\n",
      "F = [[1. 1.]] \n",
      "G = [[1. 1.]]\n",
      "len(res.X)...............................\n",
      "1\n",
      "100\n"
     ]
    }
   ],
   "source": [
    "print(\"Best solution found: \\nX = %s\\nF = %s \\nG = %s\" % (res.X, res.F, res.G))\n",
    "print(\"len(res.X)...............................\")\n",
    "print(len(res.X))\n",
    "for x in res.X:\n",
    "    print(len(x))"
   ]
  },
  {
   "cell_type": "code",
   "execution_count": 182,
   "id": "08bc57a6",
   "metadata": {},
   "outputs": [
    {
     "name": "stdout",
     "output_type": "stream",
     "text": [
      "100\n"
     ]
    }
   ],
   "source": [
    "print(len(res.F))"
   ]
  },
  {
   "cell_type": "markdown",
   "id": "491fad9e",
   "metadata": {},
   "source": [
    "# pymoo with constraint "
   ]
  },
  {
   "cell_type": "code",
   "execution_count": 280,
   "id": "29e42e52",
   "metadata": {},
   "outputs": [],
   "source": [
    "class MyProblem3(Problem):\n",
    "\n",
    "    def __init__(self):\n",
    "        super().__init__(n_var=2, n_obj=1, n_constr=1, xl=0, xu=10)\n",
    "\n",
    "    def _evaluate(self, x, out, *args, **kwargs):\n",
    "        out[\"F\"] = - np.min(x * [3, 1], axis=1)\n",
    "        out[\"G\"] = x[:, 0] + x[:, 1] - 10"
   ]
  },
  {
   "cell_type": "code",
   "execution_count": 281,
   "id": "4d9f82b8",
   "metadata": {},
   "outputs": [
    {
     "name": "stdout",
     "output_type": "stream",
     "text": [
      "Best solution found: [3 6.993302064728985]\n",
      "Function value: [-6.99330206]\n",
      "Constraint violation: [0.]\n"
     ]
    }
   ],
   "source": [
    "import numpy as np\n",
    "\n",
    "from pymoo.algorithms.soo.nonconvex.ga import GA\n",
    "from pymoo.factory import get_crossover, get_mutation, get_sampling\n",
    "from pymoo.optimize import minimize\n",
    "\n",
    "problem = MyProblem3()\n",
    "\n",
    "algorithm = GA(\n",
    "    pop_size=20,\n",
    "    sampling=sampling,\n",
    "    crossover=crossover,\n",
    "    mutation=mutation,\n",
    "    eliminate_duplicates=True,\n",
    ")\n",
    "\n",
    "res = minimize(\n",
    "    problem,\n",
    "    algorithm,\n",
    "    ('n_gen', 200),\n",
    "    seed=1,\n",
    "    save_history=True\n",
    ")\n",
    "\n",
    "print(\"Best solution found: %s\" % res.X)\n",
    "print(\"Function value: %s\" % res.F)\n",
    "print(\"Constraint violation: %s\" % res.CV)"
   ]
  },
  {
   "cell_type": "code",
   "execution_count": null,
   "id": "a10c0971",
   "metadata": {},
   "outputs": [],
   "source": []
  }
 ],
 "metadata": {
  "kernelspec": {
   "display_name": "Python 3 (ipykernel)",
   "language": "python",
   "name": "python3"
  },
  "language_info": {
   "codemirror_mode": {
    "name": "ipython",
    "version": 3
   },
   "file_extension": ".py",
   "mimetype": "text/x-python",
   "name": "python",
   "nbconvert_exporter": "python",
   "pygments_lexer": "ipython3",
   "version": "3.9.5"
  }
 },
 "nbformat": 4,
 "nbformat_minor": 5
}
