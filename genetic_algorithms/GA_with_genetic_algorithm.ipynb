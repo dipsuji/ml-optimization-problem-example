{
 "cells": [
  {
   "cell_type": "code",
   "execution_count": 1,
   "id": "609013e4",
   "metadata": {},
   "outputs": [],
   "source": [
    "# !pip install pygad"
   ]
  },
  {
   "cell_type": "code",
   "execution_count": 1,
   "id": "061b79f7",
   "metadata": {},
   "outputs": [],
   "source": [
    "import numpy \n",
    "import pandas"
   ]
  },
  {
   "cell_type": "markdown",
   "id": "8a5d2b46",
   "metadata": {},
   "source": [
    "# Example with geneticalgorithm"
   ]
  },
  {
   "cell_type": "code",
   "execution_count": 2,
   "id": "3e476f5b",
   "metadata": {},
   "outputs": [],
   "source": [
    "# !pip install geneticalgorithm"
   ]
  },
  {
   "cell_type": "markdown",
   "id": "c361fa7f",
   "metadata": {},
   "source": [
    "# geneticalgorithm Example - 1"
   ]
  },
  {
   "cell_type": "code",
   "execution_count": 3,
   "id": "9c74c084",
   "metadata": {},
   "outputs": [
    {
     "name": "stdout",
     "output_type": "stream",
     "text": [
      " The best solution found:                                                                           \n",
      " [1. 1. 0.]\n",
      "\n",
      " Objective function:\n",
      " 2.0\n"
     ]
    },
    {
     "data": {
      "image/png": "[encoded data removed]",
      "text/plain": [
       "<Figure size 432x288 with 1 Axes>"
      ]
     },
     "metadata": {
      "needs_background": "light"
     },
     "output_type": "display_data"
    },
    {
     "name": "stdout",
     "output_type": "stream",
     "text": [
      "\n",
      "Warning: GA is terminated due to the maximum number of iterations without improvement was met!"
     ]
    }
   ],
   "source": [
    "import numpy as np\n",
    "from geneticalgorithm import geneticalgorithm as ga\n",
    "\n",
    "def f(X):\n",
    "    penalty = 0\n",
    "    if X[0]+X[1]<2:\n",
    "        penalty=500+1000*(2-X[0]-X[1])\n",
    "    return np.sum(X)+penalty\n",
    "\n",
    "\n",
    "varbound=np.array([[0,10]]*3)\n",
    "\n",
    "model=ga(function=f,dimension=3,variable_type='int',variable_boundaries=varbound, \n",
    "         algorithm_parameters={'max_num_iteration': 500,\\\n",
    "                                       'population_size':100,\\\n",
    "                                       'mutation_probability':0.1,\\\n",
    "                                       'elit_ratio': 0.01,\\\n",
    "                                       'crossover_probability': 0.5,\\\n",
    "                                       'parents_portion': 0.3,\\\n",
    "                                       'crossover_type':'uniform',\\\n",
    "                                       'max_iteration_without_improv':200})\n",
    "\n",
    "model.run()"
   ]
  },
  {
   "cell_type": "markdown",
   "id": "8ebed3e7",
   "metadata": {},
   "source": [
    "# geneticalgorithm Example - 2"
   ]
  },
  {
   "cell_type": "code",
   "execution_count": 4,
   "id": "70406bbd",
   "metadata": {
    "scrolled": true
   },
   "outputs": [
    {
     "name": "stdout",
     "output_type": "stream",
     "text": [
      " The best solution found:                                                                           \n",
      " [0.50093695 1.         0.        ]\n",
      "\n",
      " Objective function:\n",
      " 1.500936945376881\n"
     ]
    },
    {
     "data": {
      "image/png": "[encoded data removed]",
      "text/plain": [
       "<Figure size 432x288 with 1 Axes>"
      ]
     },
     "metadata": {
      "needs_background": "light"
     },
     "output_type": "display_data"
    }
   ],
   "source": [
    "import numpy as np\n",
    "from geneticalgorithm import geneticalgorithm as ga\n",
    "\n",
    "def f(X):\n",
    "    return np.sum(X)\n",
    "\n",
    "varbound=np.array([[0.5,1.5],[1,100],[0,1]])\n",
    "vartype=np.array([['real'],['int'],['int']])\n",
    "model=ga(function=f,dimension=3,variable_type_mixed=vartype,variable_boundaries=varbound)\n",
    "\n",
    "model.run()"
   ]
  },
  {
   "cell_type": "code",
   "execution_count": null,
   "id": "f7c927c2",
   "metadata": {},
   "outputs": [],
   "source": []
  }
 ],
 "metadata": {
  "kernelspec": {
   "display_name": "Python 3 (ipykernel)",
   "language": "python",
   "name": "python3"
  },
  "language_info": {
   "codemirror_mode": {
    "name": "ipython",
    "version": 3
   },
   "file_extension": ".py",
   "mimetype": "text/x-python",
   "name": "python",
   "nbconvert_exporter": "python",
   "pygments_lexer": "ipython3",
   "version": "3.9.5"
  }
 },
 "nbformat": 4,
 "nbformat_minor": 5
}
