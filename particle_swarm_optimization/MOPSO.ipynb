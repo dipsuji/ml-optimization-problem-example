{
 "cells": [
  {
   "cell_type": "code",
   "execution_count": null,
   "id": "2e6fd0e5",
   "metadata": {},
   "outputs": [],
   "source": [
    "import pandas as pd\n",
    "import numpy as np"
   ]
  },
  {
   "cell_type": "code",
   "execution_count": 29,
   "id": "b731438a",
   "metadata": {},
   "outputs": [],
   "source": [
    "input_1 = np.array([25, 30, 56, 30, 12])\n",
    "input_2 = np.array([20, 35, 50, 30, 10])"
   ]
  },
  {
   "cell_type": "code",
   "execution_count": 30,
   "id": "98ec3a7d",
   "metadata": {},
   "outputs": [],
   "source": [
    "data_len = len(input_1)"
   ]
  },
  {
   "cell_type": "code",
   "execution_count": 31,
   "id": "a853f04d",
   "metadata": {},
   "outputs": [],
   "source": [
    "def f(X):\n",
    "    var_length = len(X)//2\n",
    "    front_x = X[:var_length]\n",
    "    front_y = X[var_length:]\n",
    "    res = abs(np.sum(np.square(input_1-np.array(front_x))))  \n",
    "    return res**2"
   ]
  },
  {
   "cell_type": "code",
   "execution_count": 32,
   "id": "fcb6f3bb",
   "metadata": {},
   "outputs": [
    {
     "name": "stderr",
     "output_type": "stream",
     "text": [
      "2022-05-04 14:00:34,219 - pyswarms.single.global_best - INFO - Optimize for 100 iters with {'c1': 0.5, 'c2': 0.3, 'w': 0.9}\n"
     ]
    },
    {
     "name": "stdout",
     "output_type": "stream",
     "text": [
      "varbound..................\n",
      "(array([0., 0., 0., 0., 0.]), array([10., 10., 10., 10., 10.]))\n"
     ]
    },
    {
     "name": "stderr",
     "output_type": "stream",
     "text": [
      "pyswarms.single.global_best: 100%|██████████████████████████████████████████████████████████|100/100, best_cost=6.44e+7\n",
      "2022-05-04 14:00:34,629 - pyswarms.single.global_best - INFO - Optimization finished | best cost: 64372529.058028646, best pos: [6.65292378 7.27905342 4.54425453 3.70930822 9.2427905 ]\n"
     ]
    },
    {
     "name": "stdout",
     "output_type": "stream",
     "text": [
      "5\n"
     ]
    }
   ],
   "source": [
    "from pyswarms.single.global_best import GlobalBestPSO\n",
    "\n",
    "# instatiate the optimizer\n",
    "x_max = 10 * np.ones(data_len)\n",
    "x_min = 0 * x_max\n",
    "bounds = (x_min, x_max)\n",
    "print(\"varbound..................\")\n",
    "print(bounds)\n",
    "# The values of c1 and c2 are usually equal, with a common value of 2, although values of 0-4 are also available.\n",
    "# The global search ability is strong when w is large and the local search ability is strong when w is small.\n",
    "options = {'c1': 0.5, 'c2': 0.3, 'w': 0.9}\n",
    "# print(options)\n",
    "optimizer1 = GlobalBestPSO(n_particles=100, dimensions=data_len, options=options, bounds=bounds)\n",
    "\n",
    "# now run the optimization, pass a=1 and b=100 as a tuple assigned to args\n",
    "\n",
    "cost, pos = optimizer1.optimize(f, 100)\n",
    "print(len(pos))"
   ]
  },
  {
   "cell_type": "markdown",
   "id": "bbe3ec9d",
   "metadata": {},
   "source": [
    "# Example - 2 With Two Inputs"
   ]
  },
  {
   "cell_type": "code",
   "execution_count": 33,
   "id": "c44f91ce",
   "metadata": {},
   "outputs": [],
   "source": [
    "def f1(x):\n",
    "    for X in x:\n",
    "        var_length = len(X)//2\n",
    "        front_x = X[:var_length]\n",
    "        front_y = X[var_length:]\n",
    "        res = abs(np.sum(np.square(input_2-input_1-np.array(front_x))))  \n",
    "        return res**2"
   ]
  },
  {
   "cell_type": "code",
   "execution_count": 34,
   "id": "1f231689",
   "metadata": {},
   "outputs": [
    {
     "name": "stderr",
     "output_type": "stream",
     "text": [
      "2022-05-04 14:00:40,230 - pyswarms.single.global_best - INFO - Optimize for 100 iters with {'c1': 0.5, 'c2': 0.3, 'w': 0.9}\n",
      "pyswarms.single.global_best: 100%|██████████████████████████████████████████████████████████|100/100, best_cost=5.65e+4\n",
      "2022-05-04 14:00:40,604 - pyswarms.single.global_best - INFO - Optimization finished | best cost: 56497.71482967488, best pos: [7.40882445 2.13032758 1.68185819 0.04615173 2.05776543 0.87506326\n",
      " 7.01793586 3.94564796 4.23793236 2.3077714 ]\n"
     ]
    },
    {
     "name": "stdout",
     "output_type": "stream",
     "text": [
      "10\n"
     ]
    }
   ],
   "source": [
    "from pyswarms.single.global_best import GlobalBestPSO\n",
    "\n",
    "x_max = 10 * np.ones(data_len*2)\n",
    "x_min = 0 * x_max\n",
    "bounds = (x_min, x_max)\n",
    "# The values of c1 and c2 are usually equal, with a common value of 2, although values of 0-4 are also available.\n",
    "# The global search ability is strong when w is large and the local search ability is strong when w is small.\n",
    "options = {'c1': 0.5, 'c2': 0.3, 'w': 0.9}\n",
    "# print(options)\n",
    "optimizer2 = GlobalBestPSO(n_particles=50, dimensions=data_len*2, options=options, bounds=bounds)\n",
    "\n",
    "cost, pos = optimizer2.optimize(f1, 100)\n",
    "\n",
    "print(len(pos))"
   ]
  },
  {
   "cell_type": "code",
   "execution_count": null,
   "id": "2ff9d861",
   "metadata": {},
   "outputs": [],
   "source": []
  }
 ],
 "metadata": {
  "kernelspec": {
   "display_name": "Python 3 (ipykernel)",
   "language": "python",
   "name": "python3"
  },
  "language_info": {
   "codemirror_mode": {
    "name": "ipython",
    "version": 3
   },
   "file_extension": ".py",
   "mimetype": "text/x-python",
   "name": "python",
   "nbconvert_exporter": "python",
   "pygments_lexer": "ipython3",
   "version": "3.9.5"
  }
 },
 "nbformat": 4,
 "nbformat_minor": 5
}
